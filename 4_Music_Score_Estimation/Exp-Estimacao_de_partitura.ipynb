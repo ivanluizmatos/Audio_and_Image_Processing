{
 "cells": [
  {
   "cell_type": "markdown",
   "metadata": {},
   "source": [
    "#### **Processamento de Áudio e Imagem** (2º semestre de 2024)\n",
    "\n",
    "### **Experiência: Estimação de partitura**\n",
    "\n",
    "\n",
    "##### **Nome:** Ivan Matos\n",
    "\n",
    "##### 7 de novembro de 2024\n",
    "\n",
    "---\n",
    "---"
   ]
  },
  {
   "cell_type": "code",
   "execution_count": 1,
   "metadata": {},
   "outputs": [],
   "source": [
    "using DSP, FFTW, LaTeXStrings, MAT, WAV, PyPlot, Printf"
   ]
  },
  {
   "cell_type": "code",
   "execution_count": 2,
   "metadata": {},
   "outputs": [
    {
     "name": "stdout",
     "output_type": "stream",
     "text": [
      "Ta = 6.25e-5"
     ]
    }
   ],
   "source": [
    "mat = matread(\"sinal.mat\")\n",
    "x = mat[\"x\"]\n",
    "Ta = mat[\"Ta\"]      # período de amostragem, em segundos\n",
    "\n",
    "print(\"Ta = \", Ta)"
   ]
  },
  {
   "cell_type": "code",
   "execution_count": 3,
   "metadata": {},
   "outputs": [
    {
     "name": "stdout",
     "output_type": "stream",
     "text": [
      "fa = 16000.0"
     ]
    }
   ],
   "source": [
    "fa = 1 / Ta         # frequência de amostragem, em Hz\n",
    "\n",
    "print(\"fa = \", fa)"
   ]
  },
  {
   "cell_type": "markdown",
   "metadata": {},
   "source": [
    "Podemos reproduzir o sinal:"
   ]
  },
  {
   "cell_type": "code",
   "execution_count": 4,
   "metadata": {},
   "outputs": [],
   "source": [
    "wavplay(x, fa)"
   ]
  },
  {
   "cell_type": "markdown",
   "metadata": {},
   "source": [
    "O objetivo desta experiência consiste em identificar a nota mudical executada em cada trecho do sinal fornecido, por meio do uso da **Transformada de Fourier de Tempo Curto (*Short-Time Fourier Transform*, STFT)**. Determinaremos os valores dos parâmetros $M$, $R$ e $N$ (considerando a notação vista em aula) para o cálculo da STFT, além de experimentar diferentes tipos de janelas."
   ]
  },
  {
   "cell_type": "markdown",
   "metadata": {},
   "source": [
    "---\n",
    "\n",
    "### **Determinação de $M$ e $R$**"
   ]
  },
  {
   "cell_type": "markdown",
   "metadata": {},
   "source": [
    "Seja $M$ a largura da janela empregada no cálculo da STFT do sinal $x$, e seja $R$ o deslocamento de $x$ entre dois trechos consecutivos analisados. Como visto em aula, deve-se ter $R \\leq M$.\n",
    "\n",
    "Uma vez que conhecemos o instante de início da música, bem como a duração das notas, resulta que podemos analisar trechos bem definidos do sinal $x$. Portanto, podemos tomar $R=M$ (isto é, não haverá sobreposição entre intervalos consecutivos analisados). No sinal fornecido, as notas musicais são executadas individualmente, e cada trecho que analisaremos corresponde a uma única nota musical."
   ]
  },
  {
   "cell_type": "markdown",
   "metadata": {},
   "source": [
    "##### **Valor *máximo* de $M$:**\n",
    "\n",
    "A taxa de amostragem do sinal é $T_a = 6,25 \\cdot 10^{-5} \\; \\textrm{s}$, e o andamento da música é de **320 notas por minuto**. Desejamos que $M$ seja *no máximo* igual à (menor) duração de uma nota (em número de amostras). Logo:\n",
    "\n",
    "$$M \\leq \\frac{\\text{Duração de cada nota}}{T_a} = \\frac{(60 \\cdot 1/320) \\; \\text{s}}{6,25 \\cdot 10^{-5} \\; \\text{s}} = 3000.$$\n"
   ]
  },
  {
   "cell_type": "code",
   "execution_count": 5,
   "metadata": {},
   "outputs": [],
   "source": [
    "M_max = ceil(Int, (60/320) / Ta)\n",
    "\n",
    "print(\"M_max = \", M_max)"
   ]
  },
  {
   "cell_type": "code",
   "execution_count": 6,
   "metadata": {},
   "outputs": [
    {
     "name": "stdout",
     "output_type": "stream",
     "text": [
      "M_max = 3000"
     ]
    }
   ],
   "source": [
    "# M = M_max"
   ]
  },
  {
   "cell_type": "markdown",
   "metadata": {},
   "source": [
    "##### **Valor *mínimo* de $M$:**\n",
    "\n",
    "A largura $M$ da janela utilizada no cálculo da STFT tem influência sobre a resolução na frequência. De fato, quanto menor é a janela, maior é a largura do lóbulo central de sua transformada (de forma aproximada, tal largura é inversamente proporcional à $M$); como resultado, maior é a dificuldade para \"distinguir\" entre frequências próximas, quando analisamos o espectro do sinal janelado. \n",
    "\n",
    "Em particular, para que sejamos capazes de distinguir entre as frequências fundamentais e suas respectivas 2ª harmônicas, devemos ter $M$ suficientemente grande. A menor diferença entre uma frequência fundamental e sua 2ª harmônica é verificada para a nota mais grave (sol2, em nosso caso). Para a frequência $f_0$ da nota mais grave, tem-se a seguinte diferença entre harmônicos sucessivos:\n",
    "\n",
    "$$\n",
    "2\\cdot f_0 - f_0 = f_0 = (221 \\, \\textrm{Hz}) / \\sqrt[^{6}]2 \\approx 196,886 \\; \\textrm{Hz}.\n",
    "$$\n",
    "\n",
    "Em termos de frequência normalizada, tal diferença corresponde a \n",
    "$$\n",
    "2 \\pi \\, 196,886 / f_a \\approx 0,0773 \\; \\textrm{rad}.\n",
    "$$"
   ]
  },
  {
   "cell_type": "code",
   "execution_count": 7,
   "metadata": {},
   "outputs": [
    {
     "name": "stdout",
     "output_type": "stream",
     "text": [
      "Freq. f0 da nota mais grave, em Hz: 196.88861670901497"
     ]
    }
   ],
   "source": [
    "f0 = 221 / 2^(1/6)          # frequência da nota mais grave, em Hz\n",
    "print(\"Freq. f0 da nota mais grave, em Hz: \", f0)\n",
    "\n",
    "delta_omega = 2*pi*f0 / fa;"
   ]
  },
  {
   "cell_type": "markdown",
   "metadata": {},
   "source": [
    "A seguir, estimamos o valor \"mínimo\" de $M$, considerando a fórmula que aproxima a largura $\\Delta\\omega_\\textrm{c}$ do lóbulo central da janela, para diferentes tipos de janela (retangular, Hamming, Blackman).\n",
    "\n",
    "(Ver: Seção 7.5.1 de *Discrete-Time Signal Processing* — Oppenheim & Schafer, 2a ed.)\n",
    "\n",
    "**Janela retangular:**\n",
    "\n",
    "$\\Delta\\omega_\\textrm{c} \\approx \\frac{4 \\pi}{M + 1} \\ll 0,0773 \\; \\textrm{rad} \\iff M \\gg 161,53$\n",
    "\n",
    "\n",
    "**Janela de Hamming:**\n",
    "\n",
    "$\\Delta\\omega_\\textrm{c} \\approx \\frac{8 \\pi}{M} \\ll 0,0773 \\; \\textrm{rad} \\iff M \\gg 325,06$\n",
    "\n",
    "\n",
    "**Janela de Blackman:**\n",
    "\n",
    "$\\Delta\\omega_\\textrm{c} \\approx \\frac{12 \\pi}{M} \\ll 0,0773 \\; \\textrm{rad} \\iff M \\gg 487,59$\n",
    "\n"
   ]
  },
  {
   "cell_type": "code",
   "execution_count": 8,
   "metadata": {},
   "outputs": [
    {
     "name": "stdout",
     "output_type": "stream",
     "text": [
      "Menor valor de M, considerando janela retangular:\n",
      "161.52844138416262"
     ]
    }
   ],
   "source": [
    "print(\"Menor valor de M, considerando janela retangular:\\n\", 4*pi/delta_omega - 1)"
   ]
  },
  {
   "cell_type": "code",
   "execution_count": 9,
   "metadata": {},
   "outputs": [
    {
     "name": "stdout",
     "output_type": "stream",
     "text": [
      "Menor valor de M, considerando janela de Hamming:\n",
      "325.05688276832524"
     ]
    }
   ],
   "source": [
    "print(\"Menor valor de M, considerando janela de Hamming:\\n\", 8*pi/delta_omega)"
   ]
  },
  {
   "cell_type": "code",
   "execution_count": 10,
   "metadata": {},
   "outputs": [
    {
     "name": "stdout",
     "output_type": "stream",
     "text": [
      "Menor valor de M, considerando janela de Blackman:\n",
      "487.58532415248783"
     ]
    }
   ],
   "source": [
    "print(\"Menor valor de M, considerando janela de Blackman:\\n\", 12*pi/delta_omega)"
   ]
  },
  {
   "cell_type": "markdown",
   "metadata": {},
   "source": [
    "---\n",
    "### **Determinação de $N$**"
   ]
  },
  {
   "cell_type": "markdown",
   "metadata": {},
   "source": [
    "Denotemos por $N$ o número de pontos utilizados para calcular a TDF, em cada intervalo. O valor de $N$ influencia o quão \"fina\" é a amostragem da STFT na frequência.\n",
    "Logo, devemos escolher $N$ de forma que seja possível detectar apropriadamente a menor diferença de frequência possível entre notas, $\\Delta f_{\\textrm{min}}$.\n",
    "\n",
    "Seja $f_0$ a frequência da nota mais grave (correspondente ao sol2, no nosso caso), e seja $f_1 = \\sqrt[^{12}]2 \\,\\cdot\\, f_0$ a frequência do semitom imediatamente acima. Então, a menor diferença de frequência entre notas é dada por\n",
    "\n",
    "$$\\Delta f_{\\textrm{min}} = f_1 - f_0 = f_0 \\cdot (\\sqrt[^{12}]2 - 1),$$\n",
    "\n",
    "onde $f_0 = (221 \\; \\textrm{Hz}) / \\sqrt[^{6}]2 \\approx 196,8886 \\; \\textrm{Hz}$.\n",
    "\n",
    "Portanto,\n",
    "\n",
    "$$\\Delta f_{\\textrm{min}} = (196,8886 \\; \\textrm{Hz}) \\cdot (\\sqrt[^{12}]2 - 1) \\approx 11,7076 \\; \\textrm{Hz}.$$\n"
   ]
  },
  {
   "cell_type": "code",
   "execution_count": 11,
   "metadata": {},
   "outputs": [
    {
     "name": "stdout",
     "output_type": "stream",
     "text": [
      "f0 = 196.88861670901497\n",
      "delta_f_min = 11.707606393639285"
     ]
    }
   ],
   "source": [
    "f0 = 221 / 2^(1/6)                      # frequência da nota mais grave, em Hz\n",
    "print(\"f0 = \", f0, \"\\n\")\n",
    "\n",
    "delta_f_min = f0 * ( 2^(1/12) - 1 )     # menor diferença de frequência entre duas notas, em Hz\n",
    "print(\"delta_f_min = \", delta_f_min)\n",
    "\n",
    "# w0 = 2*pi*f0 / fa"
   ]
  },
  {
   "cell_type": "markdown",
   "metadata": {},
   "source": [
    "A resolução do espectro na frequência é $f_a / N$. Se $N$ **não** for suficientemente grande, a identificação da frequência correspondente ao pico no espectro pode ocorrer com baixa precisão. Devemos ter, então:\n",
    "\n",
    "\n",
    "$$\\frac{f_a}{N} \\ll \\Delta f_{\\textrm{min}}$$\n",
    "\n",
    "$$\\therefore \\; \\; N \\gg \\frac{f_a}{\\Delta f_{\\textrm{min}}} \\approx 1366,63$$"
   ]
  },
  {
   "cell_type": "code",
   "execution_count": 12,
   "metadata": {},
   "outputs": [
    {
     "name": "stdout",
     "output_type": "stream",
     "text": [
      "fa / delta_f_min = 1366.6328933549357"
     ]
    }
   ],
   "source": [
    "print(\"fa / delta_f_min = \", fa / delta_f_min)"
   ]
  },
  {
   "cell_type": "markdown",
   "metadata": {},
   "source": [
    "Ao calcular a TDF em cada intervalo (de comprimento $M$) do sinal $x$, será necessário completar o vetor de amostras com zeros se $M < N$."
   ]
  },
  {
   "cell_type": "markdown",
   "metadata": {},
   "source": [
    "---\n",
    "\n",
    "### **Cálculo da *Transformada de Fourier de Tempo Curto* (STFT)**"
   ]
  },
  {
   "cell_type": "markdown",
   "metadata": {},
   "source": [
    "A seguir, definimos uma função para calcular a STFT do sinal $x$, dados $M$, $R$, $N$ e o tipo de janela desejado. A função retorna: \n",
    "- uma matriz `X` em que cada coluna corresponde à TDF calculada para um trecho do sinal $x$;\n",
    "- um vetor `freqs_picos` que contém, para cada trecho analisado de $x$, uma estimativa da frequência correspondente ao maior pico (em módulo) da TDF calculada para tal trecho;\n",
    "- um vetor `energia_por_trecho`, que contém o valor da energia média calculada para cada um dos trechos do sinal $x$.\n",
    "\n",
    "*Observação*: o cálculo de energia média é útil para que possamos determinar quais trechos do sinal correspondem a \"silêncio\" (isto é, a uma pausa, ausência de música)."
   ]
  },
  {
   "cell_type": "code",
   "execution_count": 13,
   "metadata": {},
   "outputs": [
    {
     "data": {
      "text/plain": [
       "calcula_stft"
      ]
     },
     "metadata": {},
     "output_type": "display_data"
    }
   ],
   "source": [
    "\"\"\"\n",
    "Calcula a STFT de um sinal x.\n",
    "Retorna:\n",
    "\n",
    "    - Uma matriz `X`, cuja i-ésima coluna corresponde à TDF calculada para um trecho\n",
    "      (de tamanho M) do sinal x, sendo este último deslocado de n=i*`R` amostras;\n",
    "\n",
    "    - Um vetor `freqs_picos`, cuja i-ésima posição é a frequência associada ao maior\n",
    "      pico do espectro calculado para o i-ésimo trecho do sinal x;\n",
    "\n",
    "    - Um vetor `energia_por_trecho`, cuja i-ésima coluna corresponde à energia média calculada\n",
    "      para o i-ésimo intervalo do sinal x. \n",
    "\"\"\"\n",
    "function calcula_stft(x, M, R, N; tipo_janela=\"rectangular\",  w = nothing)\n",
    "\n",
    "    # tipo_janela: `rectangular`, `hamming`, `blackwell`\n",
    "\n",
    "    # OBSERVAÇÃO: `w` deve ser uma janela de comprimento M ou `nothing`.\n",
    "\n",
    "    if w == nothing\n",
    "        \n",
    "        if tipo_janela == \"rectangular\"\n",
    "            w = ones(M)                     # w = rect(M)\n",
    "        elseif tipo_janela == \"hamming\"\n",
    "            w = hamming(M)\n",
    "        elseif tipo_janela == \"blackman\"\n",
    "            w = blackman(M)\n",
    "        end \n",
    "\n",
    "    end\n",
    "\n",
    "    X = zeros(Complex, N, ceil(Int,length(x)/R))\n",
    "\n",
    "    freqs_picos = []          # Vetor para armazenar a frequência correspondente ao pico da TDF em cada trecho do sinal\n",
    "\n",
    "    energia_por_trecho = []   # Vetor para armazenar a energia média em cada trecho do sinal\n",
    "\n",
    "    for i in 0:(ceil(Int, length(x)/R)-1)\n",
    "\n",
    "        n = i * R\n",
    "        \n",
    "        # Trecho de tamanho M do sinal x, deslocado de n amostras\n",
    "        trecho_x = x[n+1 : min(n + M, length(x))]\n",
    "\n",
    "        # Aplicação da janela desejada ao trecho do sinal\n",
    "        trecho_x_janelado = trecho_x .* w[1:length(trecho_x)]\n",
    "\n",
    "        # Trecho completado com zeros, a fim de permitir o cálculo da TDF com N pontos\n",
    "        trecho_completado_com_zeros = [trecho_x_janelado; zeros(N - length(trecho_x_janelado))]\n",
    "\n",
    "        # Cálculo da TDF (com N pontos) para o i-ésimo trecho do sinal\n",
    "        X_n = fft(trecho_completado_com_zeros)\n",
    "        X[:,i+1] = X_n\n",
    "\n",
    "        # Frequência correspondente ao pico no espectro do i-ésimo trecho do sinal\n",
    "        freq_pico = (argmax(abs.(X_n[1:ceil(Int,N/2)])) - 1) * fa / N\n",
    "        push!(freqs_picos, freq_pico)\n",
    "\n",
    "        # Energia média, calculada para o i-ésimo trecho do sinal\n",
    "        energia_media = sum(trecho_x.^2) / length(trecho_x)\n",
    "        push!(energia_por_trecho, energia_media)\n",
    "\n",
    "    end\n",
    "\n",
    "    return X, freqs_picos, energia_por_trecho\n",
    "\n",
    "end"
   ]
  },
  {
   "cell_type": "code",
   "execution_count": 14,
   "metadata": {},
   "outputs": [],
   "source": [
    "# plot(abs.(fft([x[200*M:201*M-1]; zeros(N-M)]))[1:125], marker=(:circle, 3), line = :stem, title = \"Janela Retangular\")"
   ]
  },
  {
   "cell_type": "markdown",
   "metadata": {},
   "source": [
    "### **Espectrograma do sinal**"
   ]
  },
  {
   "cell_type": "markdown",
   "metadata": {},
   "source": [
    "Para plotar o espectrograma do sinal, utilizamos a função ``plota_stft``, fornecida na página da disciplina:"
   ]
  },
  {
   "cell_type": "code",
   "execution_count": 15,
   "metadata": {},
   "outputs": [
    {
     "data": {
      "text/plain": [
       "plota_stft (generic function with 1 method)"
      ]
     },
     "metadata": {},
     "output_type": "display_data"
    }
   ],
   "source": [
    "# FUNÇÃO FORNECIDA NA PÁGINA DA DISCIPLINA\n",
    "\n",
    "function plota_stft(X, M, R, fa; scale = \"linear\")\n",
    "    N,Np = size(X) # N = número de pontos da FFT\n",
    "    Nyticks = 8 # número de marcações na vertical\n",
    "    ytickpos = (0:(N-1)/Nyticks:N-1) # posições das marcações na vertical\n",
    "    yticklabels = (fa/2)*ytickpos/(N-1)\n",
    "    Nxticks = 8\n",
    "    xtickpos = 1:Np÷Nxticks:Np\n",
    "    xticklabels =  round.((xtickpos .- 1) * R/fa .+ (M-1)/(2fa), digits=2)\n",
    "    # xticklabels =  xtickpos .- 1\n",
    "    if scale == \"linear\"\n",
    "        ppow = abs.(X)\n",
    "    else\n",
    "        ppow = pow2db.(abs.(X))\n",
    "    end\n",
    "    ax=pcolormesh(ppow);\n",
    "    yticks(round.(Int,ytickpos), yticklabels);\n",
    "    xticks(xtickpos, xticklabels);\n",
    "    xlabel(L\"$t$  (s)\");\n",
    "    ylabel(L\"$f$  (Hz)\");\n",
    "    return ax\n",
    "end"
   ]
  },
  {
   "cell_type": "markdown",
   "metadata": {},
   "source": [
    "### **Estimação da partitura**"
   ]
  },
  {
   "cell_type": "markdown",
   "metadata": {},
   "source": [
    "Definimos, abaixo, uma função que estima a nota musical associada a uma dada frequência.\n",
    "\n",
    "\n",
    "Consideramos uma tabela que relaciona algumas notas musicais a suas respectivas frequências (dicionário `tabela_notas_freqs`, abaixo). Para cada trecho do sinal, a ideia consiste em buscar, na tabela mencionada, qual é o valor de frequência mais próximo da frequência estimada no trecho considerado (e, portanto, qual é a nota musical correspondente). "
   ]
  },
  {
   "cell_type": "code",
   "execution_count": 16,
   "metadata": {},
   "outputs": [
    {
     "data": {
      "text/plain": [
       "estima_nota (generic function with 1 method)"
      ]
     },
     "metadata": {},
     "output_type": "display_data"
    }
   ],
   "source": [
    "# Tabela frequências (em Hz) vs. notas\n",
    "tabela_notas_freqs = Dict([\n",
    "    (196.889,  \"sol2\"),\n",
    "    (208.596,  \"sol#2\"),\n",
    "    (221,      \"lá2\"),\n",
    "    (234.141,  \"lá#2\"),\n",
    "    (248.064,  \"si2\"),\n",
    "\n",
    "    (262.815,  \"dó3\"),\n",
    "    (278.443,  \"dó#3\"),\n",
    "    (295,      \"ré3\"),\n",
    "    (312.541,  \"ré#3\"),\n",
    "    (331.126,  \"mi3\"),\n",
    "    (350.816,  \"fá3\"),\n",
    "    (371.676,  \"fá#3\"),\n",
    "    (393.777,  \"sol3\"),\n",
    "    (417.192,  \"sol#3\"),\n",
    "    (442,      \"lá3\"),\n",
    "    (468.283,  \"lá#3\"),\n",
    "    (496.128,  \"si3\"),\n",
    "\n",
    "    (525.63,   \"dó4\"),\n",
    "    (556.885,  \"dó#4\"),\t\n",
    "    (589.999,  \"ré4\"),\n",
    "    (625.082,  \"ré#4\"),\n",
    "    (662.252,  \"mi4\"),\n",
    "    (701.631,  \"fá4\"),\n",
    "    (743.352,  \"fá#4\"),\n",
    "    (787.554,  \"sol4\"),\n",
    "    (834.385,  \"sol#4\"),\n",
    "    (884,      \"lá4\"),\n",
    "    (936.565,  \"lá#4\"),\n",
    "    (992.256,  \"si4\"),\n",
    "\n",
    "    (1051.259, \"dó5\"),\n",
    "    (1113.77,  \"dó#5\"),\n",
    "    (1179.998, \"ré5\"),\n",
    "    (1250.165, \"ré#5\"),\n",
    "    (1324.503, \"mi5\"),\n",
    "    (1403.263, \"fá5\"),\n",
    "    (1486.705, \"fá#5\"),\n",
    "    (1575.109, \"sol5\"),\n",
    "    (1668.77,  \"sol#5\"),\n",
    "    (1768,     \"lá5\"),\n",
    "    (1873.131, \"lá#5\"),\n",
    "    (1984.513, \"si5\")\n",
    "])\n",
    "\n",
    "\n",
    "\n",
    "function estima_nota(freq)\n",
    "\n",
    "    freqs = collect(keys(tabela_notas_freqs))\n",
    "\n",
    "    dists = abs.(freqs .- freq)     # distâncias entre a frequência estimada e as diferentes frequências da tabela\n",
    "\n",
    "    idx = argmin(dists)\n",
    "\n",
    "    freq_mais_proxima = freqs[idx]\n",
    "\n",
    "    nota = tabela_notas_freqs[freq_mais_proxima]\n",
    "\n",
    "    return nota\n",
    "\n",
    "end"
   ]
  },
  {
   "cell_type": "markdown",
   "metadata": {},
   "source": [
    "Abaixo, escolhemos os parâmetros $M$, $R$ e $N$, com base nas restrições obtidas, e lembrando que $R \\leq M \\leq N$:"
   ]
  },
  {
   "cell_type": "code",
   "execution_count": 17,
   "metadata": {},
   "outputs": [],
   "source": [
    "M = 3000\n",
    "R = M\n",
    "N = 4096;    # potência de 2"
   ]
  },
  {
   "cell_type": "markdown",
   "metadata": {},
   "source": [
    "Escolhemos $M = R = 3000$, uma vez que a duração de cada nota corresponde a $3000$ amostras, conforme calculado anteriormente. Por outro lado, tomamos $N = 4096$, pois, como determinado, devemos ter $N$ suficientemente maior do que $1367$.\n",
    "\n",
    "\n",
    "A seguir, apresentamos o espectrograma do sinal e a sequência de notas musicais estimada, considerando o uso de diferentes janelas no cálculo da STFT. Em particular, testamos o emprego das janelas *retangular*, de *Hamming*, e de *Blackman*."
   ]
  },
  {
   "cell_type": "markdown",
   "metadata": {},
   "source": [
    "**Observação**: Para identificar se um trecho do sinal corresponde a \"silêncio\" (neste caso, ausência de música), verificamos a energia média do trecho considerado, e comparamos com um valor de \"limiar\". Se a energia média for inferior a tal limiar, então assumiremos que o trecho corresponde a uma pausa (\"silêncio\"). Para determinar o valor do limiar, podemos calcular a energia média de um trecho que já sabemos tratar-se de uma pausa (em nosso caso, podemos considerar as primeiras 3000 amostras, por exemplo):"
   ]
  },
  {
   "cell_type": "code",
   "execution_count": 18,
   "metadata": {},
   "outputs": [
    {
     "name": "stdout",
     "output_type": "stream",
     "text": [
      "Energia média de um trecho de silêncio: 0.0"
     ]
    }
   ],
   "source": [
    "print(\"Energia média de um trecho de silêncio: \", sum(x[:3000].^2) / 3000)"
   ]
  },
  {
   "cell_type": "markdown",
   "metadata": {},
   "source": [
    "Observamos que, neste caso, a energia média da \"pausa\" é igual a *zero*. Isso ocorre pois o sinal foi (artificialmente) gerado de forma que, enquanto nenhuma nota é executada, as amostras são nulas. Na prática, em uma situação real, a energia média de um trecho de silêncio não é necessariamente nula, e mais experimentos podem ser necessários a fim de determinar empiricamente um limiar adequado para a detecção de pausas."
   ]
  },
  {
   "cell_type": "markdown",
   "metadata": {},
   "source": [
    "#### **Usando janela retangular**"
   ]
  },
  {
   "cell_type": "code",
   "execution_count": 19,
   "metadata": {},
   "outputs": [
    {
     "data": {
      "image/png": "[encoded data removed]",
      "text/plain": [
       "Figure(PyObject <Figure size 640x480 with 1 Axes>)"
      ]
     },
     "metadata": {},
     "output_type": "display_data"
    }
   ],
   "source": [
    "X, freqs_picos, energia_por_trecho = calcula_stft(x, M, R, N, tipo_janela=\"rectangular\")\n",
    "\n",
    "plota_stft(X[1:floor(Int, N/2),:], M, R, fa, scale=\"linear\")\n",
    "title(\"Espectrograma (usando janela retangular)\")\n",
    "PyPlot.display_figs()"
   ]
  },
  {
   "cell_type": "markdown",
   "metadata": {},
   "source": [
    "Apresentamos a frequência estimada e nota musical correspondente, para *cada* trecho de tamanho $M$ do sinal."
   ]
  },
  {
   "cell_type": "code",
   "execution_count": 20,
   "metadata": {},
   "outputs": [
    {
     "name": "stdout",
     "output_type": "stream",
     "text": [
      "Frequência estimada e nota correspondente, para cada trecho de tamanho M:\n",
      "\n",
      "Freq. identificada (Hz) ---> Nota correspondente:\n",
      "\n",
      "(Trecho de silêncio) \n",
      "(Trecho de silêncio) \n",
      "(Trecho de silêncio) \n",
      "(Trecho de silêncio) \n",
      "(Trecho de silêncio) \n",
      "(Trecho de silêncio) \n",
      "(Trecho de silêncio) \n",
      "207.03  --->  sol#2\n",
      "222.66  --->  lá2\n",
      "222.66  --->  lá2\n",
      "222.66  --->  lá2\n",
      "246.09  --->  si2\n",
      "261.72  --->  dó3\n",
      "261.72  --->  dó3\n",
      "261.72  --->  dó3\n",
      "207.03  --->  sol#2\n",
      "222.66  --->  lá2\n",
      "250.00  --->  si2\n",
      "261.72  --->  dó3\n",
      "351.56  --->  fá3\n",
      "332.03  --->  mi3\n",
      "222.66  --->  lá2\n",
      "261.72  --->  dó3\n",
      "332.03  --->  mi3\n",
      "312.50  --->  ré#3\n",
      "312.50  --->  ré#3\n",
      "312.50  --->  ré#3\n",
      "312.50  --->  ré#3\n",
      "296.88  --->  ré3\n",
      "261.72  --->  dó3\n",
      "222.66  --->  lá2\n",
      "195.31  --->  sol2\n",
      "222.66  --->  lá2\n",
      "222.66  --->  lá2\n",
      "222.66  --->  lá2\n",
      "222.66  --->  lá2\n",
      "222.66  --->  lá2\n",
      "222.66  --->  lá2\n",
      "222.66  --->  lá2\n",
      "(Trecho de silêncio) \n",
      "(Trecho de silêncio) \n"
     ]
    }
   ],
   "source": [
    "print(\"Frequência estimada e nota correspondente, para cada trecho de tamanho M:\\n\\n\")\n",
    "\n",
    "print(\"Freq. identificada (Hz) ---> Nota correspondente:\\n\\n\")\n",
    "\n",
    "# notas_estimadas = []\n",
    "\n",
    "for (freq, energia) in zip(freqs_picos, energia_por_trecho)\n",
    "\n",
    "    if energia < 1e-3\n",
    "        print(\"(Trecho de silêncio) \\n\")\n",
    "\n",
    "    elseif freq != 0\n",
    "\n",
    "        nota_estimada = estima_nota(freq)\n",
    "        @printf(\"%.2f  --->  \", freq)\n",
    "        print(nota_estimada, \"\\n\")\n",
    "        \n",
    "        # if (length(notas_estimadas) == 0) || (nota_estimada != notas_estimadas[end])\n",
    "        #     push!(notas_estimadas, nota_estimada)\n",
    "        # end\n",
    "\n",
    "    end\n",
    "end"
   ]
  },
  {
   "cell_type": "code",
   "execution_count": 21,
   "metadata": {},
   "outputs": [],
   "source": [
    "# plot(freqs_picos)\n",
    "# PyPlot.display_figs()"
   ]
  },
  {
   "cell_type": "markdown",
   "metadata": {},
   "source": [
    "#### **Usando janela de Hamming**"
   ]
  },
  {
   "cell_type": "code",
   "execution_count": 22,
   "metadata": {},
   "outputs": [
    {
     "data": {
      "image/png": "[encoded data removed]",
      "text/plain": [
       "Figure(PyObject <Figure size 640x480 with 1 Axes>)"
      ]
     },
     "metadata": {},
     "output_type": "display_data"
    }
   ],
   "source": [
    "X, freqs_picos = calcula_stft(x, M, R, N, tipo_janela=\"hamming\")\n",
    "\n",
    "plota_stft(X[1:floor(Int, N/2),:], M, R, fa, scale=\"linear\")\n",
    "title(\"Espectrograma (usando janela de Hamming)\")\n",
    "PyPlot.display_figs()"
   ]
  },
  {
   "cell_type": "code",
   "execution_count": 23,
   "metadata": {},
   "outputs": [
    {
     "name": "stdout",
     "output_type": "stream",
     "text": [
      "Frequência estimada e nota correspondente, para cada trecho de tamanho M:\n",
      "\n",
      "Freq. identificada (Hz) ---> Nota correspondente:\n",
      "\n",
      "(Trecho de silêncio) \n",
      "(Trecho de silêncio) \n",
      "(Trecho de silêncio) \n",
      "(Trecho de silêncio) \n",
      "(Trecho de silêncio) \n",
      "(Trecho de silêncio) \n",
      "(Trecho de silêncio) \n",
      "207.03  --->  sol#2\n",
      "222.66  --->  lá2\n",
      "222.66  --->  lá2\n",
      "222.66  --->  lá2\n",
      "250.00  --->  si2\n",
      "261.72  --->  dó3\n",
      "261.72  --->  dó3\n",
      "261.72  --->  dó3\n",
      "207.03  --->  sol#2\n",
      "222.66  --->  lá2\n",
      "250.00  --->  si2\n",
      "261.72  --->  dó3\n",
      "351.56  --->  fá3\n",
      "332.03  --->  mi3\n",
      "222.66  --->  lá2\n",
      "261.72  --->  dó3\n",
      "332.03  --->  mi3\n",
      "312.50  --->  ré#3\n",
      "312.50  --->  ré#3\n",
      "312.50  --->  ré#3\n",
      "312.50  --->  ré#3\n",
      "296.88  --->  ré3\n",
      "261.72  --->  dó3\n",
      "222.66  --->  lá2\n",
      "195.31  --->  sol2\n",
      "222.66  --->  lá2\n",
      "222.66  --->  lá2\n",
      "222.66  --->  lá2\n",
      "222.66  --->  lá2\n",
      "222.66  --->  lá2\n",
      "222.66  --->  lá2\n",
      "222.66  --->  lá2\n",
      "(Trecho de silêncio) \n",
      "(Trecho de silêncio) \n"
     ]
    }
   ],
   "source": [
    "print(\"Frequência estimada e nota correspondente, para cada trecho de tamanho M:\\n\\n\")\n",
    "\n",
    "print(\"Freq. identificada (Hz) ---> Nota correspondente:\\n\\n\")\n",
    "\n",
    "# notas_estimadas = []\n",
    "\n",
    "for (freq, energia) in zip(freqs_picos, energia_por_trecho)\n",
    "\n",
    "    if energia < 1e-3\n",
    "        print(\"(Trecho de silêncio) \\n\")\n",
    "\n",
    "    elseif freq != 0\n",
    "\n",
    "        nota_estimada = estima_nota(freq)\n",
    "        @printf(\"%.2f  --->  \", freq)\n",
    "        print(nota_estimada, \"\\n\")\n",
    "        \n",
    "        # if (length(notas_estimadas) == 0) || (nota_estimada != notas_estimadas[end])\n",
    "        #     push!(notas_estimadas, nota_estimada)\n",
    "        # end\n",
    "\n",
    "    end\n",
    "end"
   ]
  },
  {
   "cell_type": "markdown",
   "metadata": {},
   "source": [
    "#### **Usando janela de Blackman**"
   ]
  },
  {
   "cell_type": "code",
   "execution_count": 24,
   "metadata": {},
   "outputs": [
    {
     "data": {
      "image/png": "[encoded data removed]",
      "text/plain": [
       "Figure(PyObject <Figure size 640x480 with 1 Axes>)"
      ]
     },
     "metadata": {},
     "output_type": "display_data"
    }
   ],
   "source": [
    "X, freqs_picos = calcula_stft(x, M, R, N, tipo_janela=\"blackman\")\n",
    "\n",
    "plota_stft(X[1:floor(Int, N/2),:], M, R, fa, scale=\"linear\")\n",
    "title(\"Espectrograma (usando janela de Blackman)\")\n",
    "PyPlot.display_figs()"
   ]
  },
  {
   "cell_type": "code",
   "execution_count": 25,
   "metadata": {},
   "outputs": [
    {
     "name": "stdout",
     "output_type": "stream",
     "text": [
      "Frequência estimada e nota correspondente, para cada trecho de tamanho M:\n",
      "\n",
      "Freq. identificada (Hz) ---> Nota correspondente:\n",
      "\n",
      "(Trecho de silêncio) \n",
      "(Trecho de silêncio) \n",
      "(Trecho de silêncio) \n",
      "(Trecho de silêncio) \n",
      "(Trecho de silêncio) \n",
      "(Trecho de silêncio) \n",
      "(Trecho de silêncio) \n",
      "207.03  --->  sol#2\n",
      "222.66  --->  lá2\n",
      "222.66  --->  lá2\n",
      "222.66  --->  lá2\n",
      "250.00  --->  si2\n",
      "261.72  --->  dó3\n",
      "261.72  --->  dó3\n",
      "261.72  --->  dó3\n",
      "207.03  --->  sol#2\n",
      "222.66  --->  lá2\n",
      "250.00  --->  si2\n",
      "261.72  --->  dó3\n",
      "351.56  --->  fá3\n",
      "332.03  --->  mi3\n",
      "222.66  --->  lá2\n",
      "261.72  --->  dó3\n",
      "332.03  --->  mi3\n",
      "312.50  --->  ré#3\n",
      "312.50  --->  ré#3\n",
      "312.50  --->  ré#3\n",
      "312.50  --->  ré#3\n",
      "296.88  --->  ré3\n",
      "261.72  --->  dó3\n",
      "222.66  --->  lá2\n",
      "195.31  --->  sol2\n",
      "222.66  --->  lá2\n",
      "222.66  --->  lá2\n",
      "222.66  --->  lá2\n",
      "222.66  --->  lá2\n",
      "222.66  --->  lá2\n",
      "222.66  --->  lá2\n",
      "222.66  --->  lá2\n",
      "(Trecho de silêncio) \n",
      "(Trecho de silêncio) \n"
     ]
    }
   ],
   "source": [
    "print(\"Frequência estimada e nota correspondente, para cada trecho de tamanho M:\\n\\n\")\n",
    "\n",
    "print(\"Freq. identificada (Hz) ---> Nota correspondente:\\n\\n\")\n",
    "\n",
    "# notas_estimadas = []\n",
    "\n",
    "for (freq, energia) in zip(freqs_picos, energia_por_trecho)\n",
    "\n",
    "    if energia < 1e-3\n",
    "        print(\"(Trecho de silêncio) \\n\")\n",
    "\n",
    "    elseif freq != 0\n",
    "\n",
    "        nota_estimada = estima_nota(freq)\n",
    "        @printf(\"%.2f  --->  \", freq)\n",
    "        print(nota_estimada, \"\\n\")\n",
    "        \n",
    "        # if (length(notas_estimadas) == 0) || (nota_estimada != notas_estimadas[end])\n",
    "        #     push!(notas_estimadas, nota_estimada)\n",
    "        # end\n",
    "\n",
    "    end\n",
    "end"
   ]
  },
  {
   "cell_type": "code",
   "execution_count": 26,
   "metadata": {},
   "outputs": [],
   "source": [
    "# plot((0:length(X[:,24])-1)*fa/N, abs.(X[:,24]))\n",
    "# PyPlot.display_figs()\n",
    "\n",
    "# plot(freqs_picos)\n",
    "# PyPlot.display_figs()"
   ]
  },
  {
   "cell_type": "markdown",
   "metadata": {},
   "source": [
    "Observamos que os resultados obtidos usando as diferentes janelas (retangular, Hamming, Blackman) são compatíveis entre si. De fato, no caso considerado, poderíamos (a princípio) optar por qualquer uma das janelas mencionadas, desde que respeitemos as restrições envolvendo o valor de $M$."
   ]
  }
 ],
 "metadata": {
  "kernelspec": {
   "display_name": "Julia 1.10.5",
   "language": "julia",
   "name": "julia-1.10"
  },
  "language_info": {
   "file_extension": ".jl",
   "mimetype": "application/julia",
   "name": "julia",
   "version": "1.10.5"
  }
 },
 "nbformat": 4,
 "nbformat_minor": 2
}
